{
 "cells": [
  {
   "cell_type": "markdown",
   "id": "3a1a9d63",
   "metadata": {},
   "source": [
    "# 6. Linear Model\n",
    "To evaluate the gunners' performance after the ball is caught, I will be adding the *squeezeDis*, *tackle*, and *missedTackle* variables to a linear model. The previous variables discussed will still be included because they will have an impact on return yards. This model will attempt to predict how many return yards a gunner will give up in the event that the ball is returned.\n",
    "\n",
    "## 6.1 Imports"
   ]
  },
  {
   "cell_type": "code",
   "execution_count": 1,
   "id": "49afd3c4",
   "metadata": {
    "scrolled": true
   },
   "outputs": [
    {
     "name": "stderr",
     "output_type": "stream",
     "text": [
      "── \u001b[1mAttaching packages\u001b[22m ─────────────────────────────────────── tidyverse 1.3.1 ──\n",
      "\n",
      "\u001b[32m✔\u001b[39m \u001b[34mggplot2\u001b[39m 3.3.5     \u001b[32m✔\u001b[39m \u001b[34mpurrr  \u001b[39m 0.3.4\n",
      "\u001b[32m✔\u001b[39m \u001b[34mtibble \u001b[39m 3.1.6     \u001b[32m✔\u001b[39m \u001b[34mdplyr  \u001b[39m 1.0.8\n",
      "\u001b[32m✔\u001b[39m \u001b[34mtidyr  \u001b[39m 1.2.0     \u001b[32m✔\u001b[39m \u001b[34mstringr\u001b[39m 1.4.0\n",
      "\u001b[32m✔\u001b[39m \u001b[34mreadr  \u001b[39m 2.1.2     \u001b[32m✔\u001b[39m \u001b[34mforcats\u001b[39m 0.5.1\n",
      "\n",
      "── \u001b[1mConflicts\u001b[22m ────────────────────────────────────────── tidyverse_conflicts() ──\n",
      "\u001b[31m✖\u001b[39m \u001b[34mdplyr\u001b[39m::\u001b[32mfilter()\u001b[39m masks \u001b[34mstats\u001b[39m::filter()\n",
      "\u001b[31m✖\u001b[39m \u001b[34mdplyr\u001b[39m::\u001b[32mlag()\u001b[39m    masks \u001b[34mstats\u001b[39m::lag()\n",
      "\n",
      "Loading required package: carData\n",
      "\n",
      "\n",
      "Attaching package: 'car'\n",
      "\n",
      "\n",
      "The following object is masked from 'package:dplyr':\n",
      "\n",
      "    recode\n",
      "\n",
      "\n",
      "The following object is masked from 'package:purrr':\n",
      "\n",
      "    some\n",
      "\n",
      "\n",
      "\n",
      "Attaching package: 'MASS'\n",
      "\n",
      "\n",
      "The following object is masked from 'package:dplyr':\n",
      "\n",
      "    select\n",
      "\n",
      "\n",
      "here() starts at C:/Users/Hunter\n",
      "\n"
     ]
    }
   ],
   "source": [
    "library(tidyverse)\n",
    "library(car)\n",
    "library(MASS)\n",
    "library(here)\n",
    "\n",
    "source(here(\"R\", \"00_source.R\"))\n",
    "\n",
    "specialistData <- read.csv(here(\"data\", \"specialist_data.csv\"), \n",
    "                           na.strings = c('NA', NA, '', ' '))\n",
    "\n",
    "# subset data to only returns\n",
    "returns <- specialistData[which(specialistData$specialTeamsResult == 'Return'), ]"
   ]
  },
  {
   "cell_type": "markdown",
   "id": "168bb72a",
   "metadata": {},
   "source": [
    "## 6.2 Model Creation\n",
    "To help select the best model, I used forward stepwise selection to pick out the features with the most predictive power. These turned out to be *timeToBeatVise*, *disFromReturner*, *speedDev*, *squeezeDis* , *disFromLOS*, and *missedTackle*."
   ]
  },
  {
   "cell_type": "code",
   "execution_count": 2,
   "id": "c15f6831",
   "metadata": {},
   "outputs": [
    {
     "name": "stdout",
     "output_type": "stream",
     "text": [
      "Start:  AIC=8153.49\n",
      "returnYds ~ 1\n",
      "\n",
      "                  Df Sum of Sq    RSS    AIC\n",
      "+ timeToBeatVise   1   11187.1 190730 8058.1\n",
      "+ disFromReturner  1    6510.5 195406 8099.5\n",
      "+ squeezeDis       1    5211.4 196706 8110.8\n",
      "+ speedDev         1    1516.5 200400 8142.6\n",
      "+ disFromLOS       1     484.1 201433 8151.4\n",
      "+ correctRelease   1     427.5 201489 8151.9\n",
      "+ topSpeed         1     376.3 201541 8152.3\n",
      "<none>                         201917 8153.5\n",
      "+ missedTackle     1      74.2 201843 8154.9\n",
      "+ release          1      22.7 201894 8155.3\n",
      "\n",
      "Step:  AIC=8058.13\n",
      "returnYds ~ timeToBeatVise\n",
      "\n",
      "                  Df Sum of Sq    RSS    AIC\n",
      "+ squeezeDis       1    3792.3 186938 8025.8\n",
      "+ disFromReturner  1    3327.7 187402 8030.1\n",
      "+ speedDev         1    3099.6 187630 8032.1\n",
      "+ topSpeed         1    1648.4 189081 8045.3\n",
      "+ disFromLOS       1     878.1 189852 8052.3\n",
      "+ correctRelease   1     324.9 190405 8057.2\n",
      "<none>                         190730 8058.1\n",
      "+ missedTackle     1     189.7 190540 8058.4\n",
      "+ release          1       3.5 190726 8060.1\n",
      "\n",
      "Step:  AIC=8025.83\n",
      "returnYds ~ timeToBeatVise + squeezeDis\n",
      "\n",
      "                  Df Sum of Sq    RSS    AIC\n",
      "+ disFromReturner  1    3213.8 183724 7998.2\n",
      "+ speedDev         1    2806.7 184131 8002.0\n",
      "+ topSpeed         1    1516.5 185421 8013.9\n",
      "+ disFromLOS       1     803.9 186134 8020.5\n",
      "+ correctRelease   1     275.9 186662 8025.3\n",
      "+ missedTackle     1     238.3 186699 8025.7\n",
      "<none>                         186938 8025.8\n",
      "+ release          1       0.4 186937 8027.8\n",
      "\n",
      "Step:  AIC=7998.21\n",
      "returnYds ~ timeToBeatVise + squeezeDis + disFromReturner\n",
      "\n",
      "                 Df Sum of Sq    RSS    AIC\n",
      "+ speedDev        1    4730.3 178993 7955.7\n",
      "+ topSpeed        1    4505.7 179218 7957.8\n",
      "+ disFromLOS      1    4233.8 179490 7960.4\n",
      "+ missedTackle    1     648.5 183075 7994.2\n",
      "+ correctRelease  1     299.5 183424 7997.4\n",
      "<none>                        183724 7998.2\n",
      "+ release         1      31.3 183692 7999.9\n",
      "\n",
      "Step:  AIC=7955.66\n",
      "returnYds ~ timeToBeatVise + squeezeDis + disFromReturner + speedDev\n",
      "\n",
      "                 Df Sum of Sq    RSS    AIC\n",
      "+ disFromLOS      1   2185.97 176807 7936.7\n",
      "+ topSpeed        1    843.66 178150 7949.6\n",
      "+ missedTackle    1    491.30 178502 7953.0\n",
      "<none>                        178993 7955.7\n",
      "+ correctRelease  1    207.83 178786 7955.7\n",
      "+ release         1     12.99 178980 7957.5\n",
      "\n",
      "Step:  AIC=7936.67\n",
      "returnYds ~ timeToBeatVise + squeezeDis + disFromReturner + speedDev + \n",
      "    disFromLOS\n",
      "\n",
      "                 Df Sum of Sq    RSS    AIC\n",
      "+ missedTackle    1    442.23 176365 7934.4\n",
      "<none>                        176807 7936.7\n",
      "+ correctRelease  1     81.98 176725 7937.9\n",
      "+ topSpeed        1     77.03 176730 7937.9\n",
      "+ release         1     18.44 176789 7938.5\n",
      "\n",
      "Step:  AIC=7934.4\n",
      "returnYds ~ timeToBeatVise + squeezeDis + disFromReturner + speedDev + \n",
      "    disFromLOS + missedTackle\n",
      "\n",
      "                 Df Sum of Sq    RSS    AIC\n",
      "<none>                        176365 7934.4\n",
      "+ correctRelease  1   105.047 176260 7935.4\n",
      "+ topSpeed        1    74.646 176291 7935.7\n",
      "+ release         1    13.594 176352 7936.3\n"
     ]
    },
    {
     "data": {
      "text/plain": [
       "\n",
       "Call:\n",
       "lm(formula = returnYds ~ timeToBeatVise + squeezeDis + disFromReturner + \n",
       "    speedDev + disFromLOS + missedTackle, data = na.omit(returns))\n",
       "\n",
       "Coefficients:\n",
       "    (Intercept)   timeToBeatVise       squeezeDis  disFromReturner  \n",
       "       -18.8580           0.7298          -0.1848           0.3467  \n",
       "       speedDev       disFromLOS     missedTackle  \n",
       "         3.4478           0.1945           2.0188  \n"
      ]
     },
     "metadata": {},
     "output_type": "display_data"
    }
   ],
   "source": [
    "fullModel <- lm(returnYds ~ timeToBeatVise + disFromLOS + disFromReturner + topSpeed + squeezeDis + missedTackle + speedDev + release + correctRelease,\n",
    "                data = na.omit(returns))\n",
    "\n",
    "nullModel <- lm(returnYds ~ 1, data = na.omit(returns))\n",
    "\n",
    "stepAIC(nullModel, scope = list(lower = nullModel, upper = fullModel), k = 2, direction = \"forward\")"
   ]
  },
  {
   "cell_type": "code",
   "execution_count": 3,
   "id": "24ccfc74",
   "metadata": {},
   "outputs": [],
   "source": [
    "fSelectedAIC <- lm(returnYds ~ timeToBeatVise + disFromReturner + speedDev + \n",
    "                     squeezeDis + disFromLOS + missedTackle, \n",
    "                   data = na.omit(returns))"
   ]
  },
  {
   "cell_type": "markdown",
   "id": "af2c13f4",
   "metadata": {},
   "source": [
    "## 6.3 Model Evaluation\n",
    "\n",
    "### 6.3.1 Checking For Collinearity\n",
    "The model selected both *disFromReturner* and *disFromLOS*. Due to these measurements being similar in nature, they may have collinearity issues. We can see if this is an issue by measuring each variables' Variable Inflation Factor (VIF). Since each variables' VIF is close to one, we can say that there are no collinearity issues with any of the variables in the model. "
   ]
  },
  {
   "cell_type": "code",
   "execution_count": 4,
   "id": "4f58a0b6",
   "metadata": {},
   "outputs": [
    {
     "data": {
      "text/html": [
       "<style>\n",
       ".dl-inline {width: auto; margin:0; padding: 0}\n",
       ".dl-inline>dt, .dl-inline>dd {float: none; width: auto; display: inline-block}\n",
       ".dl-inline>dt::after {content: \":\\0020\"; padding-right: .5ex}\n",
       ".dl-inline>dt:not(:first-of-type) {padding-left: .5ex}\n",
       "</style><dl class=dl-inline><dt>timeToBeatVise</dt><dd>1.08528933857638</dd><dt>disFromReturner</dt><dd>1.43363300084968</dd><dt>speedDev</dt><dd>1.19698544728343</dd><dt>squeezeDis</dt><dd>1.01475764488057</dd><dt>disFromLOS</dt><dd>1.46405585953933</dd><dt>missedTackle</dt><dd>1.03611902159114</dd></dl>\n"
      ],
      "text/latex": [
       "\\begin{description*}\n",
       "\\item[timeToBeatVise] 1.08528933857638\n",
       "\\item[disFromReturner] 1.43363300084968\n",
       "\\item[speedDev] 1.19698544728343\n",
       "\\item[squeezeDis] 1.01475764488057\n",
       "\\item[disFromLOS] 1.46405585953933\n",
       "\\item[missedTackle] 1.03611902159114\n",
       "\\end{description*}\n"
      ],
      "text/markdown": [
       "timeToBeatVise\n",
       ":   1.08528933857638disFromReturner\n",
       ":   1.43363300084968speedDev\n",
       ":   1.19698544728343squeezeDis\n",
       ":   1.01475764488057disFromLOS\n",
       ":   1.46405585953933missedTackle\n",
       ":   1.03611902159114\n",
       "\n"
      ],
      "text/plain": [
       " timeToBeatVise disFromReturner        speedDev      squeezeDis      disFromLOS \n",
       "       1.085289        1.433633        1.196985        1.014758        1.464056 \n",
       "   missedTackle \n",
       "       1.036119 "
      ]
     },
     "metadata": {},
     "output_type": "display_data"
    }
   ],
   "source": [
    "car::vif(fSelectedAIC)"
   ]
  },
  {
   "cell_type": "markdown",
   "id": "f4140803",
   "metadata": {},
   "source": [
    "### 6.3.2 Summarizing Model\n",
    "Due to their low p-values, each variable appears to be highly significant. However, the model's adjusted $R^{2}$ is very low at 0.1235. This means that the model can only account for 12.35% of the variability in the data. The low adjusted $R^{2}$ combined with the significant variables tells me that the variables selected have predictive power, but more variables need to be included in the model to improve accuracy."
   ]
  },
  {
   "cell_type": "code",
   "execution_count": 5,
   "id": "3c67a305",
   "metadata": {},
   "outputs": [
    {
     "data": {
      "text/plain": [
       "\n",
       "Call:\n",
       "lm(formula = returnYds ~ timeToBeatVise + disFromReturner + speedDev + \n",
       "    squeezeDis + disFromLOS + missedTackle, data = na.omit(returns))\n",
       "\n",
       "Residuals:\n",
       "    Min      1Q  Median      3Q     Max \n",
       "-25.501  -5.266  -1.324   3.188  83.181 \n",
       "\n",
       "Coefficients:\n",
       "                 Estimate Std. Error t value Pr(>|t|)    \n",
       "(Intercept)     -18.85802    2.48533  -7.588 5.33e-14 ***\n",
       "timeToBeatVise    0.72978    0.08684   8.403  < 2e-16 ***\n",
       "disFromReturner   0.34669    0.04056   8.549  < 2e-16 ***\n",
       "speedDev          3.44783    0.68928   5.002 6.26e-07 ***\n",
       "squeezeDis       -0.18482    0.03315  -5.576 2.86e-08 ***\n",
       "disFromLOS        0.19452    0.04285   4.540 6.03e-06 ***\n",
       "missedTackle      2.01879    0.97751   2.065   0.0391 *  \n",
       "---\n",
       "Signif. codes:  0 '***' 0.001 '**' 0.01 '*' 0.05 '.' 0.1 ' ' 1\n",
       "\n",
       "Residual standard error: 10.18 on 1701 degrees of freedom\n",
       "Multiple R-squared:  0.1265,\tAdjusted R-squared:  0.1235 \n",
       "F-statistic: 41.07 on 6 and 1701 DF,  p-value: < 2.2e-16\n"
      ]
     },
     "metadata": {},
     "output_type": "display_data"
    }
   ],
   "source": [
    "summary(fSelectedAIC)"
   ]
  },
  {
   "cell_type": "markdown",
   "id": "beac3fb2",
   "metadata": {},
   "source": [
    "## 6.4 Conclusion\n",
    "I do not believe the model performs well enough to be implemented by front offices. However, all of the variables selected are to be significant. These variables could be used by themselves to gauge gunner performance and guide decisions."
   ]
  }
 ],
 "metadata": {
  "kernelspec": {
   "display_name": "R",
   "language": "R",
   "name": "ir"
  },
  "language_info": {
   "codemirror_mode": "r",
   "file_extension": ".r",
   "mimetype": "text/x-r-source",
   "name": "R",
   "pygments_lexer": "r",
   "version": "4.2.0"
  }
 },
 "nbformat": 4,
 "nbformat_minor": 5
}
