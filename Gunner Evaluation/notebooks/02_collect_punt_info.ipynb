{
 "cells": [
  {
   "cell_type": "markdown",
   "id": "8f1219d2",
   "metadata": {},
   "source": [
    "# 2. Gathering Play Information\n",
    "Later in my analysis, I will need some variables identifying important play information. I decided to process all the variables beforehand and save them to a .csv file for future use. This will save me from recalculating them multiple times in the future.\n",
    "\n",
    "## 2.1 Imports"
   ]
  },
  {
   "cell_type": "code",
   "execution_count": 1,
   "id": "eeba2015",
   "metadata": {},
   "outputs": [
    {
     "name": "stderr",
     "output_type": "stream",
     "text": [
      "── \u001b[1mAttaching packages\u001b[22m ─────────────────────────────────────── tidyverse 1.3.1 ──\n",
      "\n",
      "\u001b[32m✔\u001b[39m \u001b[34mggplot2\u001b[39m 3.3.5     \u001b[32m✔\u001b[39m \u001b[34mpurrr  \u001b[39m 0.3.4\n",
      "\u001b[32m✔\u001b[39m \u001b[34mtibble \u001b[39m 3.1.6     \u001b[32m✔\u001b[39m \u001b[34mdplyr  \u001b[39m 1.0.8\n",
      "\u001b[32m✔\u001b[39m \u001b[34mtidyr  \u001b[39m 1.2.0     \u001b[32m✔\u001b[39m \u001b[34mstringr\u001b[39m 1.4.0\n",
      "\u001b[32m✔\u001b[39m \u001b[34mreadr  \u001b[39m 2.1.2     \u001b[32m✔\u001b[39m \u001b[34mforcats\u001b[39m 0.5.1\n",
      "\n",
      "── \u001b[1mConflicts\u001b[22m ────────────────────────────────────────── tidyverse_conflicts() ──\n",
      "\u001b[31m✖\u001b[39m \u001b[34mdplyr\u001b[39m::\u001b[32mfilter()\u001b[39m masks \u001b[34mstats\u001b[39m::filter()\n",
      "\u001b[31m✖\u001b[39m \u001b[34mdplyr\u001b[39m::\u001b[32mlag()\u001b[39m    masks \u001b[34mstats\u001b[39m::lag()\n",
      "\n",
      "here() starts at C:/Users/Hunter\n",
      "\n"
     ]
    }
   ],
   "source": [
    "library(tidyverse)\n",
    "library(here)\n",
    "\n",
    "source(here(\"R\", \"00_source.R\"))\n",
    "\n",
    "puntPlays <- read.csv(here(\"data\", \"punt_plays.csv\"))"
   ]
  },
  {
   "cell_type": "markdown",
   "id": "2cd7f5d9",
   "metadata": {},
   "source": [
    "## 2.2 Create New Dataframe to Store Important Play Information\n",
    "* **gameId:** Game identifier, unique (numeric)\n",
    "* **playId:** Play identifier, not unique across games (numeric)\n",
    "* **snapFrame:** Frame in tracking data that ball was snapped (numeric)\n",
    "* **catchFrame:** Frame in tracking data that ball was caught (numeric)\n",
    "* **kickDir:** Kick direction from kicking team's perspective (character)\n",
    "  + Possible values:\n",
    "    + **L:** Left\n",
    "    + **R:** Right\n",
    "    + **C:** Center\n",
    "* **returnYds:** Yards gained by return team (numeric)\n",
    "* **specialTeamsResult:** Special teams outcome of play (character)"
   ]
  },
  {
   "cell_type": "code",
   "execution_count": 2,
   "id": "fe45ccb8",
   "metadata": {},
   "outputs": [],
   "source": [
    "puntPlaysID <- unique(puntPlays[c('gameId', 'playId')])\n",
    "\n",
    "puntPlayInfo <- data.frame(gameId = puntPlaysID$gameId,\n",
    "                           playId = puntPlaysID$playId,\n",
    "                           snapFrame = numeric(nrow(puntPlaysID)),\n",
    "                           catchFrame = numeric(nrow(puntPlaysID)),\n",
    "                           kickDir = character(nrow(puntPlaysID)),\n",
    "                           returnYds = numeric(nrow(puntPlaysID)),\n",
    "                           specialTeamsResult = character(nrow(puntPlaysID)))"
   ]
  },
  {
   "cell_type": "markdown",
   "id": "a6bb2b4f",
   "metadata": {},
   "source": [
    "## 2.3 Fill *snapFrame*, *catchFrame*, and *ballCatchRow* Columns\n",
    "This is possible by using the *event* variable and checking which frame the 'ball_snap' event occurred. However, some plays don't have this event listed. Below we can see that almost every play has the ball being snapped at the eleventh frame. If the 'ball_snap' event doesn't exist, I will assume it happened at frame eleven. For filling the *catchFrame* column, I can check for events such as 'fair_catch', 'punt_received', or 'punt_land'. If none of these events exist, I can estimate it by adding the *snapFrame*, *operationTime*, and *hangTime* together. "
   ]
  },
  {
   "cell_type": "code",
   "execution_count": 3,
   "id": "9159a2a9",
   "metadata": {},
   "outputs": [
    {
     "data": {
      "text/plain": [
       "ballSnapFrame\n",
       "   1    2    3    4    5    7    8    9   10   11 \n",
       "   3    1    2    3    2    2    5    3   23 2055 "
      ]
     },
     "metadata": {},
     "output_type": "display_data"
    }
   ],
   "source": [
    "ballSnapFrame <- puntPlays$frameId[puntPlays$event == 'ball_snap' &\n",
    "                                   puntPlays$displayName == 'football']\n",
    "table(ballSnapFrame)"
   ]
  },
  {
   "cell_type": "code",
   "execution_count": 4,
   "id": "74e9431b",
   "metadata": {},
   "outputs": [],
   "source": [
    "for (i in 1:nrow(puntPlayInfo)) {\n",
    "  play <- puntPlays %>% filter(gameId == puntPlayInfo$gameId[i] & \n",
    "                                 playId == puntPlayInfo$playId[i])\n",
    "  \n",
    "  puntPlayInfo$snapFrame[i] <- play$frameId[which(play$event == 'ball_snap')][1]\n",
    "  \n",
    "  if (is.na(puntPlayInfo$snapFrame[i])) {\n",
    "    puntPlayInfo$snapFrame[i] <- 11\n",
    "  }\n",
    "  \n",
    "  catchFrameCands <- play$frameId[which(play$event == 'fair_catch' | \n",
    "                                        play$event == 'punt_received' |\n",
    "                                        play$event == 'punt_land')]\n",
    "  if(length(catchFrameCands) > 0) {\n",
    "    puntPlayInfo$catchFrame[i] <- max(catchFrameCands)\n",
    "  } else {\n",
    "    puntPlayInfo$catchFrame[i] <- puntPlayInfo$snapFrame[i] + \n",
    "                                  ceiling(play$operationTime[1] * 10) + \n",
    "                                  ceiling(play$hangTime[1] * 10)\n",
    "  }\n",
    "}"
   ]
  },
  {
   "cell_type": "code",
   "execution_count": 5,
   "id": "b0422116",
   "metadata": {},
   "outputs": [
    {
     "data": {
      "text/html": [
       "<table class=\"dataframe\">\n",
       "<caption>A data.frame: 6 × 7</caption>\n",
       "<thead>\n",
       "\t<tr><th></th><th scope=col>gameId</th><th scope=col>playId</th><th scope=col>snapFrame</th><th scope=col>catchFrame</th><th scope=col>kickDir</th><th scope=col>returnYds</th><th scope=col>specialTeamsResult</th></tr>\n",
       "\t<tr><th></th><th scope=col>&lt;int&gt;</th><th scope=col>&lt;int&gt;</th><th scope=col>&lt;dbl&gt;</th><th scope=col>&lt;dbl&gt;</th><th scope=col>&lt;chr&gt;</th><th scope=col>&lt;dbl&gt;</th><th scope=col>&lt;chr&gt;</th></tr>\n",
       "</thead>\n",
       "<tbody>\n",
       "\t<tr><th scope=row>1</th><td>2018123000</td><td> 892</td><td>11</td><td>76</td><td></td><td>0</td><td></td></tr>\n",
       "\t<tr><th scope=row>2</th><td>2018123000</td><td>2502</td><td>11</td><td>75</td><td></td><td>0</td><td></td></tr>\n",
       "\t<tr><th scope=row>3</th><td>2018123000</td><td>2975</td><td>11</td><td>76</td><td></td><td>0</td><td></td></tr>\n",
       "\t<tr><th scope=row>4</th><td>2018123000</td><td>3106</td><td>11</td><td>94</td><td></td><td>0</td><td></td></tr>\n",
       "\t<tr><th scope=row>5</th><td>2018123000</td><td>4148</td><td>11</td><td>76</td><td></td><td>0</td><td></td></tr>\n",
       "\t<tr><th scope=row>6</th><td>2018123001</td><td>1223</td><td>11</td><td>94</td><td></td><td>0</td><td></td></tr>\n",
       "</tbody>\n",
       "</table>\n"
      ],
      "text/latex": [
       "A data.frame: 6 × 7\n",
       "\\begin{tabular}{r|lllllll}\n",
       "  & gameId & playId & snapFrame & catchFrame & kickDir & returnYds & specialTeamsResult\\\\\n",
       "  & <int> & <int> & <dbl> & <dbl> & <chr> & <dbl> & <chr>\\\\\n",
       "\\hline\n",
       "\t1 & 2018123000 &  892 & 11 & 76 &  & 0 & \\\\\n",
       "\t2 & 2018123000 & 2502 & 11 & 75 &  & 0 & \\\\\n",
       "\t3 & 2018123000 & 2975 & 11 & 76 &  & 0 & \\\\\n",
       "\t4 & 2018123000 & 3106 & 11 & 94 &  & 0 & \\\\\n",
       "\t5 & 2018123000 & 4148 & 11 & 76 &  & 0 & \\\\\n",
       "\t6 & 2018123001 & 1223 & 11 & 94 &  & 0 & \\\\\n",
       "\\end{tabular}\n"
      ],
      "text/markdown": [
       "\n",
       "A data.frame: 6 × 7\n",
       "\n",
       "| <!--/--> | gameId &lt;int&gt; | playId &lt;int&gt; | snapFrame &lt;dbl&gt; | catchFrame &lt;dbl&gt; | kickDir &lt;chr&gt; | returnYds &lt;dbl&gt; | specialTeamsResult &lt;chr&gt; |\n",
       "|---|---|---|---|---|---|---|---|\n",
       "| 1 | 2018123000 |  892 | 11 | 76 | <!----> | 0 | <!----> |\n",
       "| 2 | 2018123000 | 2502 | 11 | 75 | <!----> | 0 | <!----> |\n",
       "| 3 | 2018123000 | 2975 | 11 | 76 | <!----> | 0 | <!----> |\n",
       "| 4 | 2018123000 | 3106 | 11 | 94 | <!----> | 0 | <!----> |\n",
       "| 5 | 2018123000 | 4148 | 11 | 76 | <!----> | 0 | <!----> |\n",
       "| 6 | 2018123001 | 1223 | 11 | 94 | <!----> | 0 | <!----> |\n",
       "\n"
      ],
      "text/plain": [
       "  gameId     playId snapFrame catchFrame kickDir returnYds specialTeamsResult\n",
       "1 2018123000  892   11        76                 0                           \n",
       "2 2018123000 2502   11        75                 0                           \n",
       "3 2018123000 2975   11        76                 0                           \n",
       "4 2018123000 3106   11        94                 0                           \n",
       "5 2018123000 4148   11        76                 0                           \n",
       "6 2018123001 1223   11        94                 0                           "
      ]
     },
     "metadata": {},
     "output_type": "display_data"
    }
   ],
   "source": [
    "head(puntPlayInfo)"
   ]
  },
  {
   "cell_type": "markdown",
   "id": "31cd8c86",
   "metadata": {},
   "source": [
    "## 2.4 Fill *kickDir* Column"
   ]
  },
  {
   "cell_type": "code",
   "execution_count": 6,
   "id": "d2609cf2",
   "metadata": {},
   "outputs": [],
   "source": [
    "for (i in 1:nrow(puntPlayInfo)) {\n",
    "  play <- puntPlays %>% filter(gameId == puntPlayInfo$gameId[i] & \n",
    "                               playId == puntPlayInfo$playId[i])\n",
    "  \n",
    "  puntPlayInfo$kickDir[i] <- play$kickDirectionActual[1]\n",
    "}"
   ]
  },
  {
   "cell_type": "code",
   "execution_count": 7,
   "id": "c67b769f",
   "metadata": {},
   "outputs": [
    {
     "data": {
      "text/html": [
       "<table class=\"dataframe\">\n",
       "<caption>A data.frame: 6 × 7</caption>\n",
       "<thead>\n",
       "\t<tr><th></th><th scope=col>gameId</th><th scope=col>playId</th><th scope=col>snapFrame</th><th scope=col>catchFrame</th><th scope=col>kickDir</th><th scope=col>returnYds</th><th scope=col>specialTeamsResult</th></tr>\n",
       "\t<tr><th></th><th scope=col>&lt;int&gt;</th><th scope=col>&lt;int&gt;</th><th scope=col>&lt;dbl&gt;</th><th scope=col>&lt;dbl&gt;</th><th scope=col>&lt;chr&gt;</th><th scope=col>&lt;dbl&gt;</th><th scope=col>&lt;chr&gt;</th></tr>\n",
       "</thead>\n",
       "<tbody>\n",
       "\t<tr><th scope=row>1</th><td>2018123000</td><td> 892</td><td>11</td><td>76</td><td>R</td><td>0</td><td></td></tr>\n",
       "\t<tr><th scope=row>2</th><td>2018123000</td><td>2502</td><td>11</td><td>75</td><td>C</td><td>0</td><td></td></tr>\n",
       "\t<tr><th scope=row>3</th><td>2018123000</td><td>2975</td><td>11</td><td>76</td><td>R</td><td>0</td><td></td></tr>\n",
       "\t<tr><th scope=row>4</th><td>2018123000</td><td>3106</td><td>11</td><td>94</td><td>L</td><td>0</td><td></td></tr>\n",
       "\t<tr><th scope=row>5</th><td>2018123000</td><td>4148</td><td>11</td><td>76</td><td>L</td><td>0</td><td></td></tr>\n",
       "\t<tr><th scope=row>6</th><td>2018123001</td><td>1223</td><td>11</td><td>94</td><td>C</td><td>0</td><td></td></tr>\n",
       "</tbody>\n",
       "</table>\n"
      ],
      "text/latex": [
       "A data.frame: 6 × 7\n",
       "\\begin{tabular}{r|lllllll}\n",
       "  & gameId & playId & snapFrame & catchFrame & kickDir & returnYds & specialTeamsResult\\\\\n",
       "  & <int> & <int> & <dbl> & <dbl> & <chr> & <dbl> & <chr>\\\\\n",
       "\\hline\n",
       "\t1 & 2018123000 &  892 & 11 & 76 & R & 0 & \\\\\n",
       "\t2 & 2018123000 & 2502 & 11 & 75 & C & 0 & \\\\\n",
       "\t3 & 2018123000 & 2975 & 11 & 76 & R & 0 & \\\\\n",
       "\t4 & 2018123000 & 3106 & 11 & 94 & L & 0 & \\\\\n",
       "\t5 & 2018123000 & 4148 & 11 & 76 & L & 0 & \\\\\n",
       "\t6 & 2018123001 & 1223 & 11 & 94 & C & 0 & \\\\\n",
       "\\end{tabular}\n"
      ],
      "text/markdown": [
       "\n",
       "A data.frame: 6 × 7\n",
       "\n",
       "| <!--/--> | gameId &lt;int&gt; | playId &lt;int&gt; | snapFrame &lt;dbl&gt; | catchFrame &lt;dbl&gt; | kickDir &lt;chr&gt; | returnYds &lt;dbl&gt; | specialTeamsResult &lt;chr&gt; |\n",
       "|---|---|---|---|---|---|---|---|\n",
       "| 1 | 2018123000 |  892 | 11 | 76 | R | 0 | <!----> |\n",
       "| 2 | 2018123000 | 2502 | 11 | 75 | C | 0 | <!----> |\n",
       "| 3 | 2018123000 | 2975 | 11 | 76 | R | 0 | <!----> |\n",
       "| 4 | 2018123000 | 3106 | 11 | 94 | L | 0 | <!----> |\n",
       "| 5 | 2018123000 | 4148 | 11 | 76 | L | 0 | <!----> |\n",
       "| 6 | 2018123001 | 1223 | 11 | 94 | C | 0 | <!----> |\n",
       "\n"
      ],
      "text/plain": [
       "  gameId     playId snapFrame catchFrame kickDir returnYds specialTeamsResult\n",
       "1 2018123000  892   11        76         R       0                           \n",
       "2 2018123000 2502   11        75         C       0                           \n",
       "3 2018123000 2975   11        76         R       0                           \n",
       "4 2018123000 3106   11        94         L       0                           \n",
       "5 2018123000 4148   11        76         L       0                           \n",
       "6 2018123001 1223   11        94         C       0                           "
      ]
     },
     "metadata": {},
     "output_type": "display_data"
    }
   ],
   "source": [
    "head(puntPlayInfo)"
   ]
  },
  {
   "cell_type": "markdown",
   "id": "7b5a36e4",
   "metadata": {},
   "source": [
    "## 2.5 Fill *returnYds* and *specialTeamsResult* Columns"
   ]
  },
  {
   "cell_type": "code",
   "execution_count": 8,
   "id": "50c6b4f2",
   "metadata": {},
   "outputs": [],
   "source": [
    "returnYds <- numeric(nrow(puntPlayInfo))\n",
    "for (i in 1:nrow(puntPlayInfo)) {\n",
    "  play <- puntPlays %>% filter(gameId == puntPlayInfo$gameId[i] & \n",
    "                               playId == puntPlayInfo$playId[i])\n",
    "  \n",
    "  puntPlayInfo$specialTeamsResult[i] <- play$specialTeamsResult[1]\n",
    "  returnYds[i] <- play$kickReturnYardage[1]\n",
    "}\n",
    "puntPlayInfo$returnYds <- returnYds"
   ]
  },
  {
   "cell_type": "code",
   "execution_count": 9,
   "id": "47010e51",
   "metadata": {},
   "outputs": [
    {
     "data": {
      "text/html": [
       "<table class=\"dataframe\">\n",
       "<caption>A data.frame: 6 × 7</caption>\n",
       "<thead>\n",
       "\t<tr><th></th><th scope=col>gameId</th><th scope=col>playId</th><th scope=col>snapFrame</th><th scope=col>catchFrame</th><th scope=col>kickDir</th><th scope=col>returnYds</th><th scope=col>specialTeamsResult</th></tr>\n",
       "\t<tr><th></th><th scope=col>&lt;int&gt;</th><th scope=col>&lt;int&gt;</th><th scope=col>&lt;dbl&gt;</th><th scope=col>&lt;dbl&gt;</th><th scope=col>&lt;chr&gt;</th><th scope=col>&lt;dbl&gt;</th><th scope=col>&lt;chr&gt;</th></tr>\n",
       "</thead>\n",
       "<tbody>\n",
       "\t<tr><th scope=row>1</th><td>2018123000</td><td> 892</td><td>11</td><td>76</td><td>R</td><td> 0</td><td>Fair Catch</td></tr>\n",
       "\t<tr><th scope=row>2</th><td>2018123000</td><td>2502</td><td>11</td><td>75</td><td>C</td><td>37</td><td>Return    </td></tr>\n",
       "\t<tr><th scope=row>3</th><td>2018123000</td><td>2975</td><td>11</td><td>76</td><td>R</td><td> 0</td><td>Fair Catch</td></tr>\n",
       "\t<tr><th scope=row>4</th><td>2018123000</td><td>3106</td><td>11</td><td>94</td><td>L</td><td> 8</td><td>Return    </td></tr>\n",
       "\t<tr><th scope=row>5</th><td>2018123000</td><td>4148</td><td>11</td><td>76</td><td>L</td><td> 1</td><td>Return    </td></tr>\n",
       "\t<tr><th scope=row>6</th><td>2018123001</td><td>1223</td><td>11</td><td>94</td><td>C</td><td> 0</td><td>Return    </td></tr>\n",
       "</tbody>\n",
       "</table>\n"
      ],
      "text/latex": [
       "A data.frame: 6 × 7\n",
       "\\begin{tabular}{r|lllllll}\n",
       "  & gameId & playId & snapFrame & catchFrame & kickDir & returnYds & specialTeamsResult\\\\\n",
       "  & <int> & <int> & <dbl> & <dbl> & <chr> & <dbl> & <chr>\\\\\n",
       "\\hline\n",
       "\t1 & 2018123000 &  892 & 11 & 76 & R &  0 & Fair Catch\\\\\n",
       "\t2 & 2018123000 & 2502 & 11 & 75 & C & 37 & Return    \\\\\n",
       "\t3 & 2018123000 & 2975 & 11 & 76 & R &  0 & Fair Catch\\\\\n",
       "\t4 & 2018123000 & 3106 & 11 & 94 & L &  8 & Return    \\\\\n",
       "\t5 & 2018123000 & 4148 & 11 & 76 & L &  1 & Return    \\\\\n",
       "\t6 & 2018123001 & 1223 & 11 & 94 & C &  0 & Return    \\\\\n",
       "\\end{tabular}\n"
      ],
      "text/markdown": [
       "\n",
       "A data.frame: 6 × 7\n",
       "\n",
       "| <!--/--> | gameId &lt;int&gt; | playId &lt;int&gt; | snapFrame &lt;dbl&gt; | catchFrame &lt;dbl&gt; | kickDir &lt;chr&gt; | returnYds &lt;dbl&gt; | specialTeamsResult &lt;chr&gt; |\n",
       "|---|---|---|---|---|---|---|---|\n",
       "| 1 | 2018123000 |  892 | 11 | 76 | R |  0 | Fair Catch |\n",
       "| 2 | 2018123000 | 2502 | 11 | 75 | C | 37 | Return     |\n",
       "| 3 | 2018123000 | 2975 | 11 | 76 | R |  0 | Fair Catch |\n",
       "| 4 | 2018123000 | 3106 | 11 | 94 | L |  8 | Return     |\n",
       "| 5 | 2018123000 | 4148 | 11 | 76 | L |  1 | Return     |\n",
       "| 6 | 2018123001 | 1223 | 11 | 94 | C |  0 | Return     |\n",
       "\n"
      ],
      "text/plain": [
       "  gameId     playId snapFrame catchFrame kickDir returnYds specialTeamsResult\n",
       "1 2018123000  892   11        76         R        0        Fair Catch        \n",
       "2 2018123000 2502   11        75         C       37        Return            \n",
       "3 2018123000 2975   11        76         R        0        Fair Catch        \n",
       "4 2018123000 3106   11        94         L        8        Return            \n",
       "5 2018123000 4148   11        76         L        1        Return            \n",
       "6 2018123001 1223   11        94         C        0        Return            "
      ]
     },
     "metadata": {},
     "output_type": "display_data"
    }
   ],
   "source": [
    "head(puntPlayInfo)"
   ]
  },
  {
   "cell_type": "markdown",
   "id": "cf73f8b8",
   "metadata": {},
   "source": [
    "## 2.6 Write to .csv"
   ]
  },
  {
   "cell_type": "code",
   "execution_count": 10,
   "id": "ef7d85a7",
   "metadata": {},
   "outputs": [],
   "source": [
    "write.csv(puntPlayInfo, here(\"data\", \"punt_play_info.csv\"), row.names = FALSE)"
   ]
  }
 ],
 "metadata": {
  "kernelspec": {
   "display_name": "R",
   "language": "R",
   "name": "ir"
  },
  "language_info": {
   "codemirror_mode": "r",
   "file_extension": ".r",
   "mimetype": "text/x-r-source",
   "name": "R",
   "pygments_lexer": "r",
   "version": "4.2.0"
  }
 },
 "nbformat": 4,
 "nbformat_minor": 5
}
