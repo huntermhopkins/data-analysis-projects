{
 "cells": [
  {
   "cell_type": "markdown",
   "id": "8c4efbfc",
   "metadata": {},
   "source": [
    "# 4. Logistic Model\n",
    "The models I create will be attempting to evaluate the gunners in two separate categories: before the catch and after the catch. To evaluate the gunners before the catch, I will be looking at the variables *timeToBeatVise*, *disFromReturner*, *disFromLOS*, *release*, *correctRelease*, *topSpeed*, and *speedDev*. Using these variables, the model will attempt to predict the probability of each gunner causing a fair catch.\n",
    "\n",
    "## 4.1 Imports"
   ]
  },
  {
   "cell_type": "code",
   "execution_count": 1,
   "id": "13137dc5",
   "metadata": {},
   "outputs": [
    {
     "name": "stderr",
     "output_type": "stream",
     "text": [
      "── \u001b[1mAttaching packages\u001b[22m ─────────────────────────────────────── tidyverse 1.3.1 ──\n",
      "\n",
      "\u001b[32m✔\u001b[39m \u001b[34mggplot2\u001b[39m 3.3.5     \u001b[32m✔\u001b[39m \u001b[34mpurrr  \u001b[39m 0.3.4\n",
      "\u001b[32m✔\u001b[39m \u001b[34mtibble \u001b[39m 3.1.6     \u001b[32m✔\u001b[39m \u001b[34mdplyr  \u001b[39m 1.0.8\n",
      "\u001b[32m✔\u001b[39m \u001b[34mtidyr  \u001b[39m 1.2.0     \u001b[32m✔\u001b[39m \u001b[34mstringr\u001b[39m 1.4.0\n",
      "\u001b[32m✔\u001b[39m \u001b[34mreadr  \u001b[39m 2.1.2     \u001b[32m✔\u001b[39m \u001b[34mforcats\u001b[39m 0.5.1\n",
      "\n",
      "── \u001b[1mConflicts\u001b[22m ────────────────────────────────────────── tidyverse_conflicts() ──\n",
      "\u001b[31m✖\u001b[39m \u001b[34mdplyr\u001b[39m::\u001b[32mfilter()\u001b[39m masks \u001b[34mstats\u001b[39m::filter()\n",
      "\u001b[31m✖\u001b[39m \u001b[34mdplyr\u001b[39m::\u001b[32mlag()\u001b[39m    masks \u001b[34mstats\u001b[39m::lag()\n",
      "\n",
      "Loading required package: lattice\n",
      "\n",
      "\n",
      "Attaching package: 'caret'\n",
      "\n",
      "\n",
      "The following object is masked from 'package:purrr':\n",
      "\n",
      "    lift\n",
      "\n",
      "\n",
      "Loading required package: zoo\n",
      "\n",
      "\n",
      "Attaching package: 'zoo'\n",
      "\n",
      "\n",
      "The following objects are masked from 'package:base':\n",
      "\n",
      "    as.Date, as.Date.numeric\n",
      "\n",
      "\n",
      "\n",
      "Attaching package: 'MASS'\n",
      "\n",
      "\n",
      "The following object is masked from 'package:dplyr':\n",
      "\n",
      "    select\n",
      "\n",
      "\n",
      "here() starts at C:/Users/Hunter\n",
      "\n"
     ]
    }
   ],
   "source": [
    "library(tidyverse)\n",
    "library(caret)\n",
    "library(lmtest)\n",
    "library(MASS)\n",
    "library(here)\n",
    "\n",
    "source(here(\"R\", \"00_source.R\"))\n",
    "\n",
    "specialistData <- read.csv(here(\"data\", \"specialist_data.csv\"), \n",
    "                           na.strings = c('NA', NA, '', ' '))"
   ]
  },
  {
   "cell_type": "markdown",
   "id": "10f49f2b",
   "metadata": {},
   "source": [
    "## 4.2 Change Variables to Factors"
   ]
  },
  {
   "cell_type": "code",
   "execution_count": 2,
   "id": "0dd6ad05",
   "metadata": {},
   "outputs": [],
   "source": [
    "specialistData$fairCatch <- ifelse(specialistData$specialTeamsResult == 'Fair Catch', 1, 0)\n",
    "\n",
    "specialistData$correctRelease <- as.factor(specialistData$correctRelease)\n",
    "specialistData$release <- as.factor(specialistData$release)"
   ]
  },
  {
   "cell_type": "markdown",
   "id": "0dd52dc5",
   "metadata": {},
   "source": [
    "## 4.3 Subset Data to Only Include First Man Down\n",
    "There are two gunners in each play, but only one result. One gunner might perform poorly during a play, but the play still ends in a fair catch due to the other gunner's effort. To avoid this, I will only train the model on the gunners that were the first man down."
   ]
  },
  {
   "cell_type": "code",
   "execution_count": 3,
   "id": "219151c2",
   "metadata": {},
   "outputs": [],
   "source": [
    "FMDData <- specialistData %>% filter(firstManDown == 1)\n",
    "\n",
    "# remove NAs\n",
    "FMDData <- FMDData[complete.cases(FMDData[c('timeToBeatVise', 'returnYds')]), ]"
   ]
  },
  {
   "cell_type": "markdown",
   "id": "1627ca4b",
   "metadata": {},
   "source": [
    "## 4.4 Create Models\n",
    "The variables in the model were selected using forward stepwise selection with AIC as the criterion. This helps pick out the variables with the most predictive power. These ended up being *timeToBeatVise*, *disFromReturner*, *disFromLOS*, and *topSpeed*"
   ]
  },
  {
   "cell_type": "code",
   "execution_count": 4,
   "id": "2834eb53",
   "metadata": {},
   "outputs": [
    {
     "name": "stdout",
     "output_type": "stream",
     "text": [
      "Start:  AIC=2858.11\n",
      "fairCatch ~ 1\n",
      "\n",
      "                  Df Deviance    AIC\n",
      "+ timeToBeatVise   1   2421.6 2425.6\n",
      "+ disFromReturner  1   2463.4 2467.4\n",
      "+ release          1   2830.5 2834.5\n",
      "+ disFromLOS       1   2838.5 2842.5\n",
      "+ correctRelease   1   2847.3 2851.3\n",
      "+ topSpeed         1   2847.5 2851.5\n",
      "+ speedDev         1   2848.7 2852.7\n",
      "<none>                 2856.1 2858.1\n",
      "\n",
      "Step:  AIC=2425.58\n",
      "fairCatch ~ timeToBeatVise\n",
      "\n",
      "                  Df Deviance    AIC\n",
      "+ disFromReturner  1   2212.1 2218.1\n",
      "+ disFromLOS       1   2390.1 2396.1\n",
      "+ topSpeed         1   2408.7 2414.7\n",
      "+ speedDev         1   2417.9 2423.9\n",
      "<none>                 2421.6 2425.6\n",
      "+ release          1   2420.7 2426.7\n",
      "+ correctRelease   1   2421.1 2427.1\n",
      "\n",
      "Step:  AIC=2218.14\n",
      "fairCatch ~ timeToBeatVise + disFromReturner\n",
      "\n",
      "                 Df Deviance    AIC\n",
      "+ disFromLOS      1   2090.8 2098.8\n",
      "+ topSpeed        1   2157.4 2165.4\n",
      "+ speedDev        1   2195.9 2203.9\n",
      "+ release         1   2208.6 2216.6\n",
      "<none>                2212.1 2218.1\n",
      "+ correctRelease  1   2212.1 2220.1\n",
      "\n",
      "Step:  AIC=2098.81\n",
      "fairCatch ~ timeToBeatVise + disFromReturner + disFromLOS\n",
      "\n",
      "                 Df Deviance    AIC\n",
      "+ topSpeed        1   2086.8 2096.8\n",
      "+ speedDev        1   2087.7 2097.7\n",
      "<none>                2090.8 2098.8\n",
      "+ release         1   2090.6 2100.6\n",
      "+ correctRelease  1   2090.6 2100.6\n",
      "\n",
      "Step:  AIC=2096.77\n",
      "fairCatch ~ timeToBeatVise + disFromReturner + disFromLOS + topSpeed\n",
      "\n",
      "                 Df Deviance    AIC\n",
      "<none>                2086.8 2096.8\n",
      "+ speedDev        1   2086.2 2098.2\n",
      "+ correctRelease  1   2086.6 2098.6\n",
      "+ release         1   2086.7 2098.7\n"
     ]
    },
    {
     "data": {
      "text/plain": [
       "\n",
       "Call:  glm(formula = fairCatch ~ timeToBeatVise + disFromReturner + \n",
       "    disFromLOS + topSpeed, family = \"binomial\", data = FMDData)\n",
       "\n",
       "Coefficients:\n",
       "    (Intercept)   timeToBeatVise  disFromReturner       disFromLOS  \n",
       "        9.76882         -0.45296         -0.16662         -0.08949  \n",
       "       topSpeed  \n",
       "       -0.21651  \n",
       "\n",
       "Degrees of Freedom: 2101 Total (i.e. Null);  2097 Residual\n",
       "Null Deviance:\t    2856 \n",
       "Residual Deviance: 2087 \tAIC: 2097"
      ]
     },
     "metadata": {},
     "output_type": "display_data"
    }
   ],
   "source": [
    "# create full model\n",
    "FMDLogitFull <- glm(fairCatch ~ timeToBeatVise + disFromReturner + disFromLOS + release + correctRelease + topSpeed + speedDev, \n",
    "                    data = FMDData, \n",
    "                    family = 'binomial')\n",
    "\n",
    "# null model\n",
    "FMDLogitNull <- glm(fairCatch ~ 1, data = FMDData, family = 'binomial')\n",
    "\n",
    "# select vars with forward stepwise selection (AIC)\n",
    "stepAIC(FMDLogitNull, scope = list(lower = FMDLogitNull, upper = FMDLogitFull), \n",
    "        k = 2, direction = \"forward\")\n",
    "\n",
    "fSelectedLogitAIC <- glm(fairCatch ~ timeToBeatVise + disFromReturner + disFromLOS + topSpeed, \n",
    "                    family = \"binomial\", \n",
    "                    data = FMDData)"
   ]
  },
  {
   "cell_type": "markdown",
   "id": "77c73047",
   "metadata": {},
   "source": [
    "When using BIC as the criterion, which is more conservative, the *topSpeed* variable is dropped."
   ]
  },
  {
   "cell_type": "markdown",
   "id": "66f4e6ee",
   "metadata": {},
   "source": [
    "stepAIC(FMDLogitNull, scope = list(lower = FMDLogitNull, upper = FMDLogitFull), \n",
    "        k = log(nrow(FMDData)), direction = \"forward\")"
   ]
  },
  {
   "cell_type": "code",
   "execution_count": 5,
   "id": "bccfeaca",
   "metadata": {},
   "outputs": [],
   "source": [
    "fSelectedLogitBIC <- glm(fairCatch ~ timeToBeatVise + disFromReturner + disFromLOS, \n",
    "                         family = \"binomial\", \n",
    "                         data = FMDData)"
   ]
  },
  {
   "cell_type": "markdown",
   "id": "cf0b7e07",
   "metadata": {},
   "source": [
    "## 4.5 Compare Models\n",
    "\n",
    "### 4.5.1 Model Summaries\n",
    "The model selected with AIC has lower deviance values and a lower AIC. Therefore it is a better model."
   ]
  },
  {
   "cell_type": "code",
   "execution_count": 6,
   "id": "a6f292ca",
   "metadata": {},
   "outputs": [
    {
     "data": {
      "text/plain": [
       "\n",
       "Call:\n",
       "glm(formula = fairCatch ~ timeToBeatVise + disFromReturner + \n",
       "    disFromLOS + topSpeed, family = \"binomial\", data = FMDData)\n",
       "\n",
       "Deviance Residuals: \n",
       "    Min       1Q   Median       3Q      Max  \n",
       "-2.9045  -0.7645   0.4366   0.7836   2.5075  \n",
       "\n",
       "Coefficients:\n",
       "                Estimate Std. Error z value Pr(>|z|)    \n",
       "(Intercept)      9.76882    1.00781   9.693  < 2e-16 ***\n",
       "timeToBeatVise  -0.45296    0.03313 -13.674  < 2e-16 ***\n",
       "disFromReturner -0.16662    0.01072 -15.538  < 2e-16 ***\n",
       "disFromLOS      -0.08949    0.01104  -8.109  5.1e-16 ***\n",
       "topSpeed        -0.21651    0.10805  -2.004   0.0451 *  \n",
       "---\n",
       "Signif. codes:  0 '***' 0.001 '**' 0.01 '*' 0.05 '.' 0.1 ' ' 1\n",
       "\n",
       "(Dispersion parameter for binomial family taken to be 1)\n",
       "\n",
       "    Null deviance: 2856.1  on 2101  degrees of freedom\n",
       "Residual deviance: 2086.8  on 2097  degrees of freedom\n",
       "AIC: 2096.8\n",
       "\n",
       "Number of Fisher Scoring iterations: 5\n"
      ]
     },
     "metadata": {},
     "output_type": "display_data"
    }
   ],
   "source": [
    "summary(fSelectedLogitAIC)"
   ]
  },
  {
   "cell_type": "code",
   "execution_count": 7,
   "id": "b8d219bd",
   "metadata": {},
   "outputs": [
    {
     "data": {
      "text/plain": [
       "\n",
       "Call:\n",
       "glm(formula = fairCatch ~ timeToBeatVise + disFromReturner + \n",
       "    disFromLOS, family = \"binomial\", data = FMDData)\n",
       "\n",
       "Deviance Residuals: \n",
       "    Min       1Q   Median       3Q      Max  \n",
       "-2.9385  -0.7702   0.4369   0.7836   2.5794  \n",
       "\n",
       "Coefficients:\n",
       "                 Estimate Std. Error z value Pr(>|z|)    \n",
       "(Intercept)      8.016199   0.481439   16.65   <2e-16 ***\n",
       "timeToBeatVise  -0.433127   0.031153  -13.90   <2e-16 ***\n",
       "disFromReturner -0.164789   0.010658  -15.46   <2e-16 ***\n",
       "disFromLOS      -0.100603   0.009634  -10.44   <2e-16 ***\n",
       "---\n",
       "Signif. codes:  0 '***' 0.001 '**' 0.01 '*' 0.05 '.' 0.1 ' ' 1\n",
       "\n",
       "(Dispersion parameter for binomial family taken to be 1)\n",
       "\n",
       "    Null deviance: 2856.1  on 2101  degrees of freedom\n",
       "Residual deviance: 2090.8  on 2098  degrees of freedom\n",
       "AIC: 2098.8\n",
       "\n",
       "Number of Fisher Scoring iterations: 5\n"
      ]
     },
     "metadata": {},
     "output_type": "display_data"
    }
   ],
   "source": [
    "summary(fSelectedLogitBIC)"
   ]
  },
  {
   "cell_type": "markdown",
   "id": "3bb83a8d",
   "metadata": {},
   "source": [
    "### 4.5.2 Likelihood Ratio Test\n",
    "Because the two models are hierarchical, a Likelihood Ratio Test can be used to compare the models. The test shows that the p-value is 0.0444. This means the null hypothesis can be rejected at a .05 significance level, suggesting that the complex model (AIC) provides a better fit to the data."
   ]
  },
  {
   "cell_type": "code",
   "execution_count": 8,
   "id": "8d16813e",
   "metadata": {},
   "outputs": [
    {
     "data": {
      "text/html": [
       "<table class=\"dataframe\">\n",
       "<caption>A anova: 2 × 5</caption>\n",
       "<thead>\n",
       "\t<tr><th></th><th scope=col>#Df</th><th scope=col>LogLik</th><th scope=col>Df</th><th scope=col>Chisq</th><th scope=col>Pr(&gt;Chisq)</th></tr>\n",
       "\t<tr><th></th><th scope=col>&lt;dbl&gt;</th><th scope=col>&lt;dbl&gt;</th><th scope=col>&lt;dbl&gt;</th><th scope=col>&lt;dbl&gt;</th><th scope=col>&lt;dbl&gt;</th></tr>\n",
       "</thead>\n",
       "<tbody>\n",
       "\t<tr><th scope=row>1</th><td>4</td><td>-1045.405</td><td>NA</td><td>      NA</td><td>        NA</td></tr>\n",
       "\t<tr><th scope=row>2</th><td>5</td><td>-1043.385</td><td> 1</td><td>4.041304</td><td>0.04439949</td></tr>\n",
       "</tbody>\n",
       "</table>\n"
      ],
      "text/latex": [
       "A anova: 2 × 5\n",
       "\\begin{tabular}{r|lllll}\n",
       "  & \\#Df & LogLik & Df & Chisq & Pr(>Chisq)\\\\\n",
       "  & <dbl> & <dbl> & <dbl> & <dbl> & <dbl>\\\\\n",
       "\\hline\n",
       "\t1 & 4 & -1045.405 & NA &       NA &         NA\\\\\n",
       "\t2 & 5 & -1043.385 &  1 & 4.041304 & 0.04439949\\\\\n",
       "\\end{tabular}\n"
      ],
      "text/markdown": [
       "\n",
       "A anova: 2 × 5\n",
       "\n",
       "| <!--/--> | #Df &lt;dbl&gt; | LogLik &lt;dbl&gt; | Df &lt;dbl&gt; | Chisq &lt;dbl&gt; | Pr(&gt;Chisq) &lt;dbl&gt; |\n",
       "|---|---|---|---|---|---|\n",
       "| 1 | 4 | -1045.405 | NA |       NA |         NA |\n",
       "| 2 | 5 | -1043.385 |  1 | 4.041304 | 0.04439949 |\n",
       "\n"
      ],
      "text/plain": [
       "  #Df LogLik    Df Chisq    Pr(>Chisq)\n",
       "1 4   -1045.405 NA       NA         NA\n",
       "2 5   -1043.385  1 4.041304 0.04439949"
      ]
     },
     "metadata": {},
     "output_type": "display_data"
    }
   ],
   "source": [
    "lrtest(fSelectedLogitBIC, fSelectedLogitAIC)"
   ]
  },
  {
   "cell_type": "markdown",
   "id": "66b34588",
   "metadata": {},
   "source": [
    "## 4.6 Evaluate Model\n",
    "The model's accuracy can be estimated by splitting the data into a testing and training set. The model is trained on the training set. Once the model is developed, it attempts to classify each observation in the testing set as either a fair catch or not a fair catch. This can then be compared to the actual classification of each observation to estimate the model's accuracy. This is repeated using k-fold cross validation to test the model on several different testing and training sets. This allows for a more accurate estimation.\n",
    "\n",
    "The final estimated accuracy of the model is about 75.17%."
   ]
  },
  {
   "cell_type": "code",
   "execution_count": 9,
   "id": "ec0336cf",
   "metadata": {},
   "outputs": [
    {
     "data": {
      "text/html": [
       "0.751676822387723"
      ],
      "text/latex": [
       "0.751676822387723"
      ],
      "text/markdown": [
       "0.751676822387723"
      ],
      "text/plain": [
       "[1] 0.7516768"
      ]
     },
     "metadata": {},
     "output_type": "display_data"
    }
   ],
   "source": [
    "set.seed(60)\n",
    "\n",
    "k <- 10\n",
    "kFoldAccuracy <- numeric(k)\n",
    "CVFolds <- createFolds(FMDData$fairCatch, k=k, returnTrain = T)\n",
    "\n",
    "concatConfMatrix <- matrix(0, nrow = 2, ncol = 2)\n",
    "\n",
    "for (i in 1:k) {\n",
    "  folds <- CVFolds[[i]]\n",
    "  train <- FMDData[folds, ]\n",
    "  valid <- FMDData[-folds, ]\n",
    "  \n",
    "fSelectedLogitAIC <- glm(fairCatch ~ timeToBeatVise + disFromReturner + disFromLOS + topSpeed, \n",
    "                    family = \"binomial\", \n",
    "                    data = train)\n",
    "  \n",
    "  fitted.results <- predict(fSelectedLogitAIC,newdata = valid,type = 'response')\n",
    "  fitted.results <- ifelse(fitted.results > 0.5,1,0)\n",
    "  misClasificError <- mean(fitted.results != valid$fairCatch)\n",
    "  \n",
    "  kFoldAccuracy[i] <- 1 - misClasificError\n",
    "  \n",
    "  confMatrix <- confusionMatrix(as.factor(fitted.results), as.factor(valid$fairCatch))\n",
    "  \n",
    "  concatConfMatrix <- confMatrix$table + concatConfMatrix\n",
    "}\n",
    "\n",
    "mean(kFoldAccuracy)"
   ]
  },
  {
   "cell_type": "code",
   "execution_count": 10,
   "id": "31052506",
   "metadata": {},
   "outputs": [
    {
     "data": {
      "image/png": "[encoded data removed]",
      "text/plain": [
       "plot without title"
      ]
     },
     "metadata": {
      "image/png": {
       "height": 540,
       "width": 873.738
      }
     },
     "output_type": "display_data"
    }
   ],
   "source": [
    "confusionDF <- data.frame(trueClass = factor(c(0, 0, 1, 1)),\n",
    "                 predictedClass = factor(c(0, 1, 0, 1)),\n",
    "                 Y = c(concatConfMatrix[1, 1], concatConfMatrix[2, 1], concatConfMatrix[1, 2], concatConfMatrix[2, 2]))\n",
    "\n",
    "# adjust plot size\n",
    "options(repr.plot.width=14.5623, repr.plot.height=9)\n",
    "\n",
    "ggplot(confusionDF, aes(x = trueClass, y = predictedClass)) +\n",
    "  geom_tile(aes(fill = Y)) +\n",
    "  geom_text(aes(label = sprintf(\"%1.0f\", Y)), vjust = 1) +\n",
    "  scale_fill_gradient(low = \"red\",\n",
    "                      high = \"blue\",\n",
    "                      trans = \"log\") +\n",
    "  scale_x_discrete(labels = c(\"0\" = \"Return\", \"1\" = \"Fair Catch\")) +\n",
    "  scale_y_discrete(labels = c(\"0\" = \"Return\", \"1\" = \"Fair Catch\")) +\n",
    "  theme(legend.position = \"none\") + \n",
    "  xlab(\"True Class\") +\n",
    "  ylab(\"Predicted Class\") +\n",
    "  ggtitle(\"Concatenated Confusion Matrix\")"
   ]
  },
  {
   "cell_type": "markdown",
   "id": "454b9677",
   "metadata": {},
   "source": [
    "## 4.7 Conclusion\n",
    "The model is not superbly accurate. However, I believe it is accurate enough to provide useful insights, and be used in conjunction with a coach's or general manager's intuition.\n",
    "\n",
    "## 4.8 Write to .csv"
   ]
  },
  {
   "cell_type": "code",
   "execution_count": 11,
   "id": "d2194fc3",
   "metadata": {},
   "outputs": [],
   "source": [
    "write.csv(FMDData, file = here(\"data\", \"FMD_data.csv\"), row.names = FALSE)"
   ]
  },
  {
   "cell_type": "markdown",
   "id": "5f1c0da6",
   "metadata": {},
   "source": [
    "## 4.9 Save Plot"
   ]
  },
  {
   "cell_type": "code",
   "execution_count": 12,
   "id": "6b584525",
   "metadata": {},
   "outputs": [],
   "source": [
    "ggsave(\"confusion_matrix.png\", path = here(\"output\"), width = 9.7082, height = 6)"
   ]
  }
 ],
 "metadata": {
  "kernelspec": {
   "display_name": "R",
   "language": "R",
   "name": "ir"
  },
  "language_info": {
   "codemirror_mode": "r",
   "file_extension": ".r",
   "mimetype": "text/x-r-source",
   "name": "R",
   "pygments_lexer": "r",
   "version": "4.2.0"
  }
 },
 "nbformat": 4,
 "nbformat_minor": 5
}
