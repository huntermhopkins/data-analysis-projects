{
 "cells": [
  {
   "cell_type": "markdown",
   "id": "975729ab",
   "metadata": {},
   "source": [
    "# 2. Request New Data via API\n",
    "Requesting all of the data can be impractical, especially when the amount of data being requested is increasing everyday. Instead, it makes sense to only request data if it has not been requested already. This notebook goes over the system I devised to only request the necessary data.\n",
    "\n",
    "# 2.1 Import Data"
   ]
  },
  {
   "cell_type": "code",
   "execution_count": null,
   "id": "29a0f07a",
   "metadata": {},
   "outputs": [],
   "source": [
    "library(tidyverse)\n",
    "library(httr)\n",
    "library(jsonlite)\n",
    "library(anytime)\n",
    "library(googlesheets4)\n",
    "library(here)\n",
    "\n",
    "source(here(\"R\", \"00_source.R\"))"
   ]
  },
  {
   "cell_type": "code",
   "execution_count": null,
   "id": "ee60ac5c",
   "metadata": {},
   "outputs": [],
   "source": [
    "scrobbleDataID <- \"1-hx0pjREakkdFIQZWJJ5-KZbSQNTEdX99GQ0HM8u6MM\"\n",
    "artistTagID <- \"1lZLASIwaiXjQ8JBQRwnIH9LLrqijM68hGKAyrOdfdgU\"\n",
    "gs4_auth(cache = here(\"R\", \".secrets\"), email = T)"
   ]
  },
  {
   "cell_type": "code",
   "execution_count": null,
   "id": "6c6d6347",
   "metadata": {},
   "outputs": [],
   "source": [
    "scrobbleData <- read_sheet(scrobbleDataID, 1)\n",
    "artistTagInfo <- read_sheet(artistTagID, 1)"
   ]
  },
  {
   "cell_type": "markdown",
   "id": "d8081c94",
   "metadata": {},
   "source": [
    "# 2.2 Request New Data\n",
    "To only request the new data, I request the first page of data, i.e. the first 200 songs. These 200 songs from the API get compared with the last 200 songs in the google sheet containing all of the previously requested data. If all of these songs are the same, then there must not be any new data to request. If there are any differences, then the new data is requested and appended to the saved data. In the event that all of the 200 songs are different, then the next page needs to be checked. This process is repeated until all of the new songs are collected."
   ]
  },
  {
   "cell_type": "code",
   "execution_count": null,
   "id": "93b32fe7",
   "metadata": {},
   "outputs": [],
   "source": [
    "APIKey <- \"2eb9b95751e6a5cd1da827604bf51906\"\n",
    "userAgent <- \"CACTUS__PLANT\"\n",
    "url <- \"https://ws.audioscrobbler.com/2.0/\""
   ]
  },
  {
   "cell_type": "code",
   "execution_count": null,
   "id": "c66079f0",
   "metadata": {},
   "outputs": [],
   "source": [
    "while(pageNum <= totalPages) {\n",
    "  # request data\n",
    "  payload <- list(method = \"user.getRecentTracks\", user = userAgent, extended = 1, limit = 200, page = pageNum)\n",
    "  res <- get.lastfm(payload, userAgent)\n",
    "  \n",
    "  # error if request is unsuccessful\n",
    "  if (res$status_code != 200) {\n",
    "    print(paste(\"ERROR:\", res$status_code))\n",
    "    break\n",
    "  }\n",
    "  \n",
    "  # convert data\n",
    "  char <- rawToChar(res$content)\n",
    "  dataJSON <- fromJSON(char)\n",
    "  \n",
    "  # save new data to dataframe\n",
    "  newTracks <- data.frame(artistName = dataJSON$recenttracks$track$artist$name,\n",
    "                          artistURL = dataJSON$recenttracks$track$artist$url,\n",
    "                          albumName = dataJSON$recenttracks$track$album$`#text`,\n",
    "                          trackName = dataJSON$recenttracks$track$name,\n",
    "                          trackURL = dataJSON$recenttracks$track$url,\n",
    "                          trackImage = unlist(lapply(lapply(dataJSON$recenttracks$track$image, `[[`, 2), `[[`, 4)),\n",
    "                          date = as.numeric(dataJSON$recenttracks$track$date$uts))\n",
    "  \n",
    "  pageNum <- as.numeric(dataJSON$recenttracks$`@attr`$page)\n",
    "  totalPages <- as.numeric(dataJSON$recenttracks$`@attr`$totalPages)\n",
    "  \n",
    "  ## compare new data with saved data, is there new data available?\n",
    "  equal <-  all_equal(newTracks, scrobbleData[((payload$limit - 199) + (payload$limit * (pageNum - 1))):(payload$limit + (payload$limit * (pageNum - 1))), ])\n",
    "  \n",
    "  if(isTRUE(equal)) { # no new data, break loop\n",
    "    print(\"No new data detected\")\n",
    "    break\n",
    "  } else { # new data exists, find how many songs need to be added\n",
    "    trackDiffsStr <- str_extract(equal, \"(?<=y: )(.*)(?=\\\\n)\")\n",
    "    trackDiffs <- as.numeric(unlist(strsplit(trackDiffsStr, split = \", \")))\n",
    "    if (length(trackDiffs) < 200) { # all different songs on this page, combine data, no need to check any more pages\n",
    "      print(paste(\"New data found. Adding\", length(trackDiffs), \"new scrobble(s) to data set. Breaking loop.\"))\n",
    "      scrobbleData <- rbind(newTracks[trackDiffs, ], scrobbleData)\n",
    "      break\n",
    "    } else { # need to check next page, add data, continue loop\n",
    "      print(paste(\"New data found. Adding \", length(trackDiffs), \" new scrobble(s) to data set.\"))\n",
    "      print(paste(\"Moving to page\", pageNum + 1))\n",
    "      scrobbleData <- rbind(newTracks[trackDiffs, ], scrobbleData)\n",
    "    }\n",
    "  }\n",
    "  \n",
    "  Sys.sleep(0.25) # reduce frequency of requests to not overload server\n",
    "  \n",
    "  pageNum <- pageNum + 1\n",
    "  \n",
    "}"
   ]
  },
  {
   "cell_type": "markdown",
   "id": "0fd96cb7",
   "metadata": {},
   "source": [
    "# 2.3 Request New Artist Tags\n",
    "A similar process is used to request the new artist tags. If any new songs were added in the previous step, the artists of those songs are compared with the artists already collected. The tags for the artists not already collected are requested."
   ]
  },
  {
   "cell_type": "code",
   "execution_count": null,
   "id": "b29528ee",
   "metadata": {},
   "outputs": [],
   "source": [
    "savedArtists <- artistTagInfo$artistName\n",
    "allArtists <- unique(scrobbleData$artistName)\n",
    "\n",
    "diffInd <- which(!(allArtists %in% savedArtists))\n",
    "\n",
    "if (length(diffInd) > 0) {\n",
    "  newArtists <- allArtists[diffInd]\n",
    "  print(paste(\"New artist(s) found:\", newArtists))\n",
    "  newTagInfo <- data.frame(artistName = newArtists,\n",
    "                           artistTag = character(length(newArtists)))\n",
    "  \n",
    "  for (i in 1:length(newArtists)) {\n",
    "    \n",
    "    # request data\n",
    "    payload <- list(method = \"artist.getTopTags\", artist = newTagInfo$artistName[i])\n",
    "    res <- get.lastfm(payload, userAgent)\n",
    "    \n",
    "    # error if request is unsuccessful\n",
    "    if (res$status_code != 200) {\n",
    "      print(paste(\"ERROR:\", res$status_code))\n",
    "      break\n",
    "    }\n",
    "    \n",
    "    # convert data\n",
    "    char <- rawToChar(res$content)\n",
    "    dataJSON <- fromJSON(char)\n",
    "    \n",
    "    # add tag to data frame\n",
    "    tagName <- dataJSON$toptags$tag$name[1]\n",
    "    \n",
    "    if(!is.null(tagName)) {\n",
    "      newTagInfo$artistTag[i] <- tagName\n",
    "    } else {\n",
    "      newTagInfo$artistTag[i] <- NA\n",
    "    }\n",
    "    \n",
    "    Sys.sleep(0.25) # reduce frequency of requests to not overload server\n",
    "    \n",
    "  }\n",
    "  \n",
    "  # combine data\n",
    "  artistTagInfo <- rbind(newTagInfo, artistTagInfo)\n",
    "} else {\n",
    "  print(\"No new artist(s) found.\")\n",
    "}"
   ]
  },
  {
   "cell_type": "markdown",
   "id": "e718d185",
   "metadata": {},
   "source": [
    "# 2.4 Save Data to Google Sheet"
   ]
  },
  {
   "cell_type": "code",
   "execution_count": null,
   "id": "5045299d",
   "metadata": {},
   "outputs": [],
   "source": [
    "write_sheet(scrobbleData, scrobbleDataID, 1)\n",
    "write_sheet(artistTagInfo, artistTagID, 1)"
   ]
  }
 ],
 "metadata": {
  "kernelspec": {
   "display_name": "R",
   "language": "R",
   "name": "ir"
  },
  "language_info": {
   "codemirror_mode": "r",
   "file_extension": ".r",
   "mimetype": "text/x-r-source",
   "name": "R",
   "pygments_lexer": "r",
   "version": "4.2.0"
  }
 },
 "nbformat": 4,
 "nbformat_minor": 5
}
