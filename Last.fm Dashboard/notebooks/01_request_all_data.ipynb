{
 "cells": [
  {
   "cell_type": "markdown",
   "id": "cf50950f",
   "metadata": {},
   "source": [
    "# 1. Request All Data via API\n",
    "Before creating the dashboard, I must collect all of the data. This notebook outlines this process. While requesting all of the data can be time consuming due to rate limiting, it is useful for resetting the data if something goes wrong.\n",
    "\n",
    "## 1.1 Load Libraries and Functions"
   ]
  },
  {
   "cell_type": "code",
   "execution_count": 1,
   "id": "170959d7",
   "metadata": {},
   "outputs": [
    {
     "name": "stderr",
     "output_type": "stream",
     "text": [
      "── \u001b[1mAttaching packages\u001b[22m ─────────────────────────────────────── tidyverse 1.3.1 ──\n",
      "\n",
      "\u001b[32m✔\u001b[39m \u001b[34mggplot2\u001b[39m 3.3.5     \u001b[32m✔\u001b[39m \u001b[34mpurrr  \u001b[39m 0.3.4\n",
      "\u001b[32m✔\u001b[39m \u001b[34mtibble \u001b[39m 3.1.6     \u001b[32m✔\u001b[39m \u001b[34mdplyr  \u001b[39m 1.0.8\n",
      "\u001b[32m✔\u001b[39m \u001b[34mtidyr  \u001b[39m 1.2.0     \u001b[32m✔\u001b[39m \u001b[34mstringr\u001b[39m 1.4.0\n",
      "\u001b[32m✔\u001b[39m \u001b[34mreadr  \u001b[39m 2.1.2     \u001b[32m✔\u001b[39m \u001b[34mforcats\u001b[39m 0.5.1\n",
      "\n",
      "── \u001b[1mConflicts\u001b[22m ────────────────────────────────────────── tidyverse_conflicts() ──\n",
      "\u001b[31m✖\u001b[39m \u001b[34mdplyr\u001b[39m::\u001b[32mfilter()\u001b[39m masks \u001b[34mstats\u001b[39m::filter()\n",
      "\u001b[31m✖\u001b[39m \u001b[34mdplyr\u001b[39m::\u001b[32mlag()\u001b[39m    masks \u001b[34mstats\u001b[39m::lag()\n",
      "\n",
      "\n",
      "Attaching package: 'jsonlite'\n",
      "\n",
      "\n",
      "The following object is masked from 'package:purrr':\n",
      "\n",
      "    flatten\n",
      "\n",
      "\n",
      "here() starts at C:/Users/Hunter\n",
      "\n"
     ]
    }
   ],
   "source": [
    "library(tidyverse)\n",
    "library(httr)\n",
    "library(jsonlite)\n",
    "library(anytime)\n",
    "library(here)\n",
    "library(stringi)\n",
    "library(googlesheets4)\n",
    "\n",
    "source(here(\"R\", \"00_source.R\"))"
   ]
  },
  {
   "cell_type": "markdown",
   "id": "395a5ac6",
   "metadata": {},
   "source": [
    "## 1.2 Get Track Info"
   ]
  },
  {
   "cell_type": "code",
   "execution_count": 2,
   "id": "7d8ab99e",
   "metadata": {
    "tags": [
     "remove-cell"
    ]
   },
   "outputs": [],
   "source": [
    "\n",
    "\n",
    "APIKey <- \"2eb9b95751e6a5cd1da827604bf51906\"\n",
    "userAgent <- \"CACTUS__PLANT\"\n",
    "url <- \"https://ws.audioscrobbler.com/2.0/\""
   ]
  },
  {
   "cell_type": "code",
   "execution_count": 3,
   "id": "2e05eb79",
   "metadata": {},
   "outputs": [],
   "source": [
    "pageNum <- 1\n",
    "totalPages <- 2\n",
    "\n",
    "scrobbleData <- data.frame(matrix(vector(), 0, 1,\n",
    "                                  dimnames=list(c(), c(\"\"))),\n",
    "                           stringsAsFactors=F)"
   ]
  },
  {
   "cell_type": "code",
   "execution_count": 4,
   "id": "452d0af5",
   "metadata": {},
   "outputs": [],
   "source": [
    "while(pageNum <= totalPages) {\n",
    "    # request data\n",
    "    payload <- list(method = \"user.getRecentTracks\", user = userAgent, extended = 1, limit = 200, page = pageNum)\n",
    "    res <- get.lastfm(payload, userAgent)\n",
    "  \n",
    "    # error if request unsuccessful\n",
    "    if (res$status_code != 200) {\n",
    "        print(paste(\"ERROR:\", res$status_code))\n",
    "        break\n",
    "    }\n",
    "  \n",
    "    # convert data to dataframe\n",
    "    char <- rawToChar(res$content)\n",
    "    dataJSON <- fromJSON(char)\n",
    "    \n",
    "    # save data in dataframe\n",
    "    newTracks <- data.frame(artistName = dataJSON$recenttracks$track$artist$name,\n",
    "                            artistURL = dataJSON$recenttracks$track$artist$url,\n",
    "                            albumName = dataJSON$recenttracks$track$album$`#text`,\n",
    "                            trackName = dataJSON$recenttracks$track$name,\n",
    "                            trackURL = dataJSON$recenttracks$track$url,\n",
    "                            trackImage = unlist(lapply(lapply(dataJSON$recenttracks$track$image, `[[`, 2), `[[`, 4)),\n",
    "                            date = as.numeric(dataJSON$recenttracks$track$date$uts))\n",
    "  \n",
    "    # update pages\n",
    "    totalPages <- as.numeric(dataJSON$recenttracks$`@attr`$totalPages)\n",
    "    pageNum <- as.numeric(dataJSON$recenttracks$`@attr`$page)\n",
    "  \n",
    "    # add new data to dataframe\n",
    "    scrobbleData <- rbind(scrobbleData, newTracks)\n",
    "  \n",
    "    Sys.sleep(0.25) # reduce frequency of requests to not overload server\n",
    "  \n",
    "    pageNum <- pageNum + 1\n",
    "  \n",
    "}"
   ]
  },
  {
   "cell_type": "code",
   "execution_count": 5,
   "id": "61e66e0d",
   "metadata": {},
   "outputs": [
    {
     "name": "stdout",
     "output_type": "stream",
     "text": [
      "'data.frame':\t16463 obs. of  7 variables:\n",
      " $ artistName: chr  \"Alex G\" \"Underscores\" \"Zen Sounds\" \"Zen Sounds\" ...\n",
      " $ artistURL : chr  \"https://www.last.fm/music/Alex+G\" \"https://www.last.fm/music/Underscores\" \"https://www.last.fm/music/Zen+Sounds\" \"https://www.last.fm/music/Zen+Sounds\" ...\n",
      " $ albumName : chr  \"Rocket\" \"boneyard aka fearmonger\" \"Loopable White Noise for Yoga & Meditation, Vol. 1\" \"Loopable White Noise for Yoga & Meditation, Vol. 1\" ...\n",
      " $ trackName : chr  \"Judge\" \"Everybody's dead!\" \"Rain Sounds: Long Rainstorm (Loopable)\" \"Rain Sounds: Long Rainstorm (Loopable)\" ...\n",
      " $ trackURL  : chr  \"https://www.last.fm/music/Alex+G/_/Judge\" \"https://www.last.fm/music/Underscores/_/Everybody%27s+dead!\" \"https://www.last.fm/music/Zen+Sounds/_/Rain+Sounds:+Long+Rainstorm+(Loopable)\" \"https://www.last.fm/music/Zen+Sounds/_/Rain+Sounds:+Long+Rainstorm+(Loopable)\" ...\n",
      " $ trackImage: chr  \"https://lastfm.freetls.fastly.net/i/u/300x300/da1abef9f05307110b46969196768164.jpg\" \"https://lastfm.freetls.fastly.net/i/u/300x300/3f0266af96efa67250bed3c87e6deb45.jpg\" \"https://lastfm.freetls.fastly.net/i/u/300x300/2a96cbd8b46e442fc41c2b86b821562f.png\" \"https://lastfm.freetls.fastly.net/i/u/300x300/2a96cbd8b46e442fc41c2b86b821562f.png\" ...\n",
      " $ date      : num  1.66e+09 1.66e+09 1.66e+09 1.66e+09 1.66e+09 ...\n"
     ]
    }
   ],
   "source": [
    "str(scrobbleData)"
   ]
  },
  {
   "cell_type": "markdown",
   "id": "65d39200",
   "metadata": {},
   "source": [
    "# 1.3 Get Tag Info"
   ]
  },
  {
   "cell_type": "code",
   "execution_count": 6,
   "id": "7cd2ccac",
   "metadata": {},
   "outputs": [],
   "source": [
    "artists <- unique(scrobbleData$artistName)\n",
    "artistTagInfo <- data.frame(artistName = artists,\n",
    "                            artistTag = character(length(artists)))"
   ]
  },
  {
   "cell_type": "code",
   "execution_count": 7,
   "id": "cb5a0dd7",
   "metadata": {},
   "outputs": [],
   "source": [
    "for (i in 1:length(artists)) {\n",
    "    # request data\n",
    "    payload <- list(method = \"artist.getTopTags\", artist = artistTagInfo$artistName[i])\n",
    "    res <- get.lastfm(payload, userAgent)\n",
    "  \n",
    "    # error if request is unsuccessful\n",
    "    if (res$status_code != 200) {\n",
    "        print(paste(\"ERROR:\", res$status_code))\n",
    "        break\n",
    "      }\n",
    "  \n",
    "    # convert data\n",
    "    char <- rawToChar(res$content)\n",
    "    dataJSON <- fromJSON(char)\n",
    "  \n",
    "    tagName <- dataJSON$toptags$tag$name[1]\n",
    "    \n",
    "    # save data to dataframe\n",
    "    if(!is.null(tagName)) {\n",
    "        artistTagInfo$artistTag[i] <- tagName\n",
    "    } else {\n",
    "        artistTagInfo$artistTag[i] <- NA\n",
    "    }\n",
    "  \n",
    "    Sys.sleep(0.25) # reduce frequency of requests to not overload server\n",
    "  \n",
    "}"
   ]
  },
  {
   "cell_type": "markdown",
   "id": "f2aea3b8",
   "metadata": {},
   "source": [
    "## 1.3 Save Data to Google Sheet"
   ]
  },
  {
   "cell_type": "code",
   "execution_count": 8,
   "id": "d8a90463",
   "metadata": {
    "tags": [
     "remove-cell"
    ]
   },
   "outputs": [],
   "source": [
    "scrobbleDataID <- \"1-hx0pjREakkdFIQZWJJ5-KZbSQNTEdX99GQ0HM8u6MM\"\n",
    "artistTagID <- \"1lZLASIwaiXjQ8JBQRwnIH9LLrqijM68hGKAyrOdfdgU\""
   ]
  },
  {
   "cell_type": "code",
   "execution_count": 10,
   "id": "89a2a60f",
   "metadata": {
    "tags": [
     "remove-output"
    ]
   },
   "outputs": [
    {
     "name": "stderr",
     "output_type": "stream",
     "text": [
      "\u001b[32m✔\u001b[39m Writing to \u001b[36mmy_scrobble_data\u001b[39m.\n",
      "\n",
      "\u001b[32m✔\u001b[39m Writing to sheet \u001b[32mSheet1\u001b[39m.\n",
      "\n",
      "\u001b[32m✔\u001b[39m Writing to \u001b[36martist_tag_data\u001b[39m.\n",
      "\n",
      "\u001b[32m✔\u001b[39m Writing to sheet \u001b[32mSheet1\u001b[39m.\n",
      "\n"
     ]
    }
   ],
   "source": [
    "write_sheet(scrobbleData, scrobbleDataID, 1)\n",
    "write_sheet(artistTagInfo, artistTagID, 1)"
   ]
  }
 ],
 "metadata": {
  "celltoolbar": "Edit Metadata",
  "kernelspec": {
   "display_name": "R",
   "language": "R",
   "name": "ir"
  },
  "language_info": {
   "codemirror_mode": "r",
   "file_extension": ".r",
   "mimetype": "text/x-r-source",
   "name": "R",
   "pygments_lexer": "r",
   "version": "4.2.0"
  }
 },
 "nbformat": 4,
 "nbformat_minor": 5
}
